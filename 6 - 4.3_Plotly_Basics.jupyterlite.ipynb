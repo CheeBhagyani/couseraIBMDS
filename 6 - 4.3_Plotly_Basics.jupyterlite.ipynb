{
  "cells": [
    {
      "cell_type": "markdown",
      "id": "076fcc7f-ca23-45c9-85f6-3db3646ea54b",
      "metadata": {},
      "outputs": [],
      "source": [
        "<center>\n",
        "    <img src=\"https://cf-courses-data.s3.us.cloud-object-storage.appdomain.cloud/IBMDeveloperSkillsNetwork-DV0101EN-SkillsNetwork/labs/Module%204/logo.png\" width=\"300\" alt=\"cognitiveclass.ai logo\">\n",
        "</center>\n"
      ]
    },
    {
      "cell_type": "markdown",
      "id": "c3cfe828-79e2-4558-9dad-3faa71d82974",
      "metadata": {},
      "outputs": [],
      "source": [
        "# Basic Plotly Charts\n",
        "\n",
        "Estimated time needed: 45 minutes\n"
      ]
    },
    {
      "cell_type": "markdown",
      "id": "6a9a65ab-8788-44d4-8090-d0d7babad0e5",
      "metadata": {},
      "outputs": [],
      "source": [
        "# Objectives\n",
        "\n",
        "\n",
        "After completing this lab, you will be able to:\n",
        "\n",
        "*   Use plotly graph objects and plotly express libraries to plot different types of charts\n",
        "*   Create interesting visualizations on Airline Reporting Carrier On-Time Performance Dataset \n"
      ]
    },
    {
      "cell_type": "markdown",
      "id": "33893647-d386-4267-977c-54c4b60afa47",
      "metadata": {},
      "outputs": [],
      "source": [
        "# Plotly graph objects and Plotly express libraries to plot different types of charts \n",
        "\n",
        "## Plotly Libraries\n",
        "\n",
        "**plotly.graph_objects:** \n",
        "This is a low level interface to figures, traces and layout. The Plotly graph objects module provides an automatically generated hierarchy of classes ( figures, traces, and layout) called graph objects. These graph objects represent figures with a top-level class plotly.graph_objects.Figure.\n",
        "\n",
        "**plotly.express:** \n",
        "Plotly express is a high-level wrapper for Plotly. It is a recommended starting point for creating the most common figures provided by Plotly using a simpler syntax. It uses graph objects internally.\n",
        "Now let us use these libraries to plot some charts\n",
        "We will start with plotly_graph_objects to plot line and scatter plots\n",
        "> Note: You can hover the mouse over the charts whenever you want to view any statistics in the visualization charts \n",
        "\n",
        "\n",
        "\n",
        "\n",
        "## Exercise I: Get Started with Different Chart types in Plotly\n"
      ]
    },
    {
      "cell_type": "code",
      "id": "c2b47b69-52cb-41e5-869e-445eaf7968ec",
      "metadata": {},
      "outputs": [],
      "source": [
        "import piplite\n\nawait piplite.install(['nbformat', 'plotly'])"
      ]
    },
    {
      "cell_type": "code",
      "id": "1b02417b-c157-46cd-ae79-0b90c1ed0711",
      "metadata": {},
      "outputs": [],
      "source": [
        "# Import required libraries\nimport pandas as pd\nimport numpy as np\nimport plotly.express as px\nimport plotly.graph_objects as go"
      ]
    },
    {
      "cell_type": "markdown",
      "id": "239619bc-bc6e-4746-8e67-1fc4f78f8c09",
      "metadata": {},
      "outputs": [],
      "source": [
        "## 1. Scatter Plot: \n",
        "A scatter plot shows the relationship between 2 variables on the x and y-axis. The data points here appear scattered when plotted on a two-dimensional plane. Using scatter plots, we can create exciting visualizations to express various relationships, such as:\n",
        "\n",
        "* Height vs weight of persons\n",
        "* Engine size vs automobile price\n",
        "* Exercise time vs Body Fat\n"
      ]
    },
    {
      "cell_type": "code",
      "id": "8b3cd552-6bc8-42c8-be24-71121f7d94c5",
      "metadata": {},
      "outputs": [],
      "source": [
        "##Example 1: Let us illustrate the income vs age of people in a scatter plot\n\nage_array=np.random.randint(25,55,60)\n# Define an array containing salesamount values \nincome_array=np.random.randint(300000,700000,3000000)"
      ]
    },
    {
      "cell_type": "code",
      "id": "309f0815-e97a-444a-93ec-e0620e5c51dd",
      "metadata": {},
      "outputs": [],
      "source": [
        "##First we will create an empty figure using go.Figure()\nfig=go.Figure()\nfig"
      ]
    },
    {
      "cell_type": "code",
      "id": "3cf8d41e-c28c-4df1-83a3-8263f824d83e",
      "metadata": {},
      "outputs": [],
      "source": [
        "#Next we will create a scatter plot by using the add_trace function and use the go.scatter() function within it\n# In go.Scatter we define the x-axis data,y-axis data and define the mode as markers with color of the marker as blue\nfig.add_trace(go.Scatter(x=age_array, y=income_array, mode='markers', marker=dict(color='blue')))"
      ]
    },
    {
      "cell_type": "markdown",
      "id": "9c00a11f-1cf4-44f7-966c-d44abf7b56d4",
      "metadata": {},
      "outputs": [],
      "source": [
        "**However in the previous output title, x-axis and y-axis labels are missing. Let us use the update_layout function to update the title and labels.**\n"
      ]
    },
    {
      "cell_type": "code",
      "id": "a439fd3f-e936-4476-9571-b06425ed87d7",
      "metadata": {},
      "outputs": [],
      "source": [
        "## Here we update these values under function attributes such as title,xaxis_title and yaxis_title\nfig.update_layout(title='Economic Survey', xaxis_title='Age', yaxis_title='Income')\n# Display the figure\nfig.show()"
      ]
    },
    {
      "cell_type": "markdown",
      "id": "485ed36a-b408-4bf1-a6ba-6eb6ec37ac17",
      "metadata": {},
      "outputs": [],
      "source": [
        "#### Inferences:\n",
        "     \n",
        "From the above plot we find that the Income of a person is not correlated with age. We find that as the age increases the income may or not decrease.\n"
      ]
    },
    {
      "cell_type": "markdown",
      "id": "87411c8a-ab73-4657-802f-264007ebc021",
      "metadata": {},
      "outputs": [],
      "source": [
        "## 2. Line Plot: \n",
        "A line plot shows information that changes continuously with time. Here the data points are connected by straight lines. Line plots are also plotted on a two dimensional plane like scatter plots. Using line plots, we can create exciting visualizations to illustrate:\n",
        "\n",
        "  * Annual revenue growth\n",
        "  * Stock Market analysis over time\n",
        "  * Product Sales over time\n"
      ]
    },
    {
      "cell_type": "code",
      "id": "4bf80695-0c44-42ba-ad58-b276f23b3b7e",
      "metadata": {},
      "outputs": [],
      "source": [
        "##Example 2: Let us illustrate the sales of bicycles from Jan to August last year using a line chart\n# Define an array containing numberofbicyclessold  \nnumberofbicyclessold_array=[50,100,40,150,160,70,60,45]\n# Define an array containing months\nmonths_array=[\"Jan\",\"Feb\",\"Mar\",\"April\",\"May\",\"June\",\"July\",\"August\"]\n"
      ]
    },
    {
      "cell_type": "code",
      "id": "c5dee2fe-63a6-4007-949b-5d4cc9779c73",
      "metadata": {},
      "outputs": [],
      "source": [
        "##First we will create an empty figure using go.Figure()\nfig=go.Figure()"
      ]
    },
    {
      "cell_type": "code",
      "id": "640e0ccc-9009-4c37-892a-179d783dc086",
      "metadata": {},
      "outputs": [],
      "source": [
        "#Next we will create a line plot by using the add_trace function and use the go.scatter() function within it\n# In go.Scatter we define the x-axis data,y-axis data and define the mode as lines with color of the marker as green\nfig.add_trace(go.Scatter(x=months_array, y=numberofbicyclessold_array, mode='lines', marker=dict(color='green')))"
      ]
    },
    {
      "cell_type": "code",
      "id": "591e5779-140b-4ffa-a9c1-37316ba5c2c1",
      "metadata": {},
      "outputs": [],
      "source": [
        "## Here we update these values under function attributes such as title,xaxis_title and yaxis_title\nfig.update_layout(title='Bicycle Sales', xaxis_title='Months', yaxis_title='Number of Bicycles Sold')\n# Display the figure\nfig.show()"
      ]
    },
    {
      "cell_type": "markdown",
      "id": "b8521c8e-9b35-4307-b5b2-a6b579ecaa32",
      "metadata": {},
      "outputs": [],
      "source": [
        "#### Inferences:\n",
        "     \n",
        "From the above plot we find that the sales is the highest in the month of May and then there is a decline in sales.\n"
      ]
    },
    {
      "cell_type": "markdown",
      "id": "f014816e-bb4d-4432-b75f-0af12c2823bb",
      "metadata": {},
      "outputs": [],
      "source": [
        "We will now use plotly express library to plot the other graphs\n"
      ]
    },
    {
      "cell_type": "markdown",
      "id": "46754136-c0b3-4567-b0c4-edbe5420958c",
      "metadata": {},
      "outputs": [],
      "source": [
        "  \n",
        "## 3.Bar Plot: \n",
        "A bar plot represents categorical data in rectangular bars. Each category is defined on one axis, and the value counts for this category are represented on another axis. Bar charts are generally used to compare values.We can use bar plots in visualizing:\n",
        "\n",
        " * Pizza delivery time in peak and non peak hours\n",
        " * Population comparison by gender\n",
        " * Number of views by movie name\n"
      ]
    },
    {
      "cell_type": "code",
      "id": "44710aa5-e475-4a00-9cce-c02bcdea78ad",
      "metadata": {},
      "outputs": [],
      "source": [
        "##Example 3: Let us illustrate the average pass percentage of classes from grade 6 to grade 10\n\n# Define an array containing scores of students \nscore_array=[80,90,56,88,95]\n# Define an array containing Grade names  \ngrade_array=['Grade 6','Grade 7','Grade 8','Grade 9','Grade 10']"
      ]
    },
    {
      "cell_type": "markdown",
      "id": "30a73885-fd66-408d-acf9-2f900e69f695",
      "metadata": {},
      "outputs": [],
      "source": [
        "**In plotly express we set the axis values and the title within the same function call `px.<graphtype>(x=<xaxis value source>,y=<y-axis value source>,title=<appropriate title as a string>)`.In the below code we use `px.bar( x=grade_array, y=score_array, title='Pass Percentage of Classes')`.**\n"
      ]
    },
    {
      "cell_type": "code",
      "id": "a574303d-fd93-4b9d-b53d-ce28a2d4dc7b",
      "metadata": {},
      "outputs": [],
      "source": [
        "# Use plotly express bar chart function px.bar.Provide input data, x and y axis variable, and title of the chart.\n# This will give average pass percentage per class\nfig = px.bar( x=grade_array, y=score_array, title='Pass Percentage of Classes') \nfig.show()"
      ]
    },
    {
      "cell_type": "markdown",
      "id": "665bce5d-2611-4fa3-9508-7cf1ef45e051",
      "metadata": {},
      "outputs": [],
      "source": [
        "#### Inferences:\n",
        "     \n",
        "From the above plot we find that Grade 8 has the lowest pass percentage and Grade 10 has the highest pass percentage \n"
      ]
    },
    {
      "cell_type": "markdown",
      "id": "d0d06e59-d106-4cbf-b05a-34de77426030",
      "metadata": {},
      "outputs": [],
      "source": [
        "\n",
        "## 4.Histogram: \n",
        " A histogram is used to represent continuous data in the form of bar. Each bar has discrete values in bar graphs, whereas in histograms, we have bars representing a range of values. Histograms show frequency distributions. We can use histograms to visualize:\n",
        " \n",
        " * Students marks distribution\n",
        " * Frequency of waiting time of customers in a Bank\n"
      ]
    },
    {
      "cell_type": "code",
      "id": "ded903ac-6491-43bf-bc65-68d63f9f593d",
      "metadata": {},
      "outputs": [],
      "source": [
        "##Example 4: Let us illustrate the distribution of heights of 200 people using a histogram\n\nimport numpy as np\n#Here we will concentrate on heights which are 160 and the standard deviation is 11\nheights_array = np.random.normal(160, 11, 200)\n## Use plotly express histogram chart function px.histogram.Provide input data x to the histogram\nfig = px.histogram(x=heights_array,title=\"Distribution of Heights\")\nfig.show()"
      ]
    },
    {
      "cell_type": "markdown",
      "id": "7cfa3c61-d3e0-47ba-a617-d784f6954724",
      "metadata": {},
      "outputs": [],
      "source": [
        "#### Inferences\n",
        "From this we can analyze that there are around \n",
        "2 people who are at the height of 130cm and 45 people at the height of 160 cm\n"
      ]
    },
    {
      "cell_type": "markdown",
      "id": "9bc33601-e1b6-4cf0-8e79-a7aa4d8b7b18",
      "metadata": {},
      "outputs": [],
      "source": [
        "## 5. Bubble Plot: \n",
        "A bubble plot is used to show the relationship between 3 or more variables. It is an extension of a scatter plot. Bubble plots are ideal for visualizing:\n",
        "\n",
        "  * Global Economic position of Industries\n",
        "  * Impact of viruses on Diseases\n"
      ]
    },
    {
      "cell_type": "code",
      "id": "b1591e4c-7e9b-455e-8f9a-0c26530df747",
      "metadata": {},
      "outputs": [],
      "source": [
        "##Example 4: Let us illustrate crime statistics of US cities with a bubble chart\n\n#Create a dictionary having city,numberofcrimes and year as 3 keys\ncrime_details = {\n    'City' : ['Chicago', 'Chicago', 'Austin', 'Austin','Seattle','Seattle'],\n    'Numberofcrimes' : [1000, 1200, 400, 700,350,1500],\n    'Year' : ['2007', '2008', '2007', '2008','2007','2008'],\n}\n  \n# create a Dataframe object with the dictionary\ndf = pd.DataFrame(crime_details)\n  \ndf"
      ]
    },
    {
      "cell_type": "code",
      "id": "8e4b3fa3-1782-4159-b565-73e1278d7275",
      "metadata": {},
      "outputs": [],
      "source": [
        "## Group the number of crimes by city and find the total number of crimes per city\nbub_data = df.groupby('City')['Numberofcrimes'].sum().reset_index()"
      ]
    },
    {
      "cell_type": "code",
      "id": "aa22b964-c5e9-4f7a-8aa9-03188ad5e29d",
      "metadata": {},
      "outputs": [],
      "source": [
        "##Display the grouped dataframe\nbub_data"
      ]
    },
    {
      "cell_type": "code",
      "id": "ed9e94b1-bc2c-4173-8835-ef9dc8d42aa4",
      "metadata": {},
      "outputs": [],
      "source": [
        "## Bubble chart using px.scatter function with x ,y and size varibles defined.Title defined as Crime Statistics\nfig = px.scatter(bub_data, x=\"City\", y=\"Numberofcrimes\", size=\"Numberofcrimes\",\n                 hover_name=\"City\", title='Crime Statistics', size_max=60)\nfig.show()"
      ]
    },
    {
      "cell_type": "markdown",
      "id": "f4976e74-6830-432d-81f7-36ee63943efb",
      "metadata": {},
      "outputs": [],
      "source": [
        "#### Inferences\n",
        "The size of the bubble in the bubble chart indicates that Chicago has the highest crime rate when compared with the other 2 cities.\n"
      ]
    },
    {
      "cell_type": "markdown",
      "id": "dbf6e045-45ae-414a-b809-f1e0a14c0fa2",
      "metadata": {},
      "outputs": [],
      "source": [
        " ## 6.Pie Plot: \n",
        " A pie plot is a circle chart mainly used to represent proportion of part of given data with respect to the whole data. Each slice represents a proportion and on total of the proportion becomes a whole. We can use bar plots in visualizing:\n",
        " \n",
        " * Sales turnover percentatge with respect to different products\n",
        " * Monthly expenditure of a Family\n"
      ]
    },
    {
      "cell_type": "code",
      "id": "e0ca749a-b22a-4d74-a081-d5ad15bb020d",
      "metadata": {},
      "outputs": [],
      "source": [
        "## Monthly expenditure of a family\n# Random Data\nexp_percent= [20, 50, 10,8,12]\nhouse_holdcategories = ['Grocery', 'Rent', 'School Fees','Transport','Savings']"
      ]
    },
    {
      "cell_type": "code",
      "id": "f1fd671e-c726-4af0-8b70-fe2ec2c7f1bf",
      "metadata": {},
      "outputs": [],
      "source": [
        "# Use px.pie function to create the chart. Input dataset. \n# Values parameter will set values associated to the sector. 'exp_percent' feature is passed to it.\n# labels for the sector are passed to the `house hold categoris` parameter.\nfig = px.pie(values=exp_percent, names=house_holdcategories, title='Household Expenditure')\nfig.show()"
      ]
    },
    {
      "cell_type": "markdown",
      "id": "8f4cc155-6e03-446d-bb40-25bbd6dc6c34",
      "metadata": {},
      "outputs": [],
      "source": [
        "#### Inferences\n",
        "From this pie chart we can find that the family expenditure is maximum for rent.\n"
      ]
    },
    {
      "cell_type": "markdown",
      "id": "c0f8b723-224a-42ad-aba9-23ab6926c879",
      "metadata": {},
      "outputs": [],
      "source": [
        "## 7.Sunburst Charts: \n",
        "Sunburst charts represent hierarchial data in the form of concentric circles. Here the innermost circle is the root node which defines the parent, and then the outer rings move down the hierarchy from the centre. They are also called radial charts.We can use them to plot\n",
        "\n",
        "* Worldwide mobile Sales where we can drill down as follows:   \n",
        "    * innermost circle represents total sales  \n",
        "    * first outer circle represents continentwise sales\n",
        "    * second outer circle represents countrywise sales within each continent\n",
        "    \n",
        "    \n",
        "* Disease outbreak hierarchy\n",
        "\n",
        "\n",
        "* Real Estate Industrial chain\n"
      ]
    },
    {
      "cell_type": "code",
      "id": "3fb0b223-4ade-45e1-801a-494c432d2a40",
      "metadata": {},
      "outputs": [],
      "source": [
        "##Example 4: Let us illustrate plot the \n\n#Create a dictionary having a set of people represented by a character array and the parents of these characters represented in another\n## array and the values are the values associated to the vectors.\ndata = dict(\n    character=[\"Eve\", \"Cain\", \"Seth\", \"Enos\", \"Noam\", \"Abel\", \"Awan\", \"Enoch\", \"Azura\"],\n    parent=[\"\", \"Eve\", \"Eve\", \"Seth\", \"Seth\", \"Eve\", \"Eve\", \"Awan\", \"Eve\" ],\n    value=[10, 14, 12, 10, 2, 6, 6, 4, 4])\n\nfig = px.sunburst(\n    data,\n    names='character',\n    parents='parent',\n    values='value',\n    title=\"Family chart\"\n)\nfig.show()"
      ]
    },
    {
      "cell_type": "markdown",
      "id": "672182db-3d2e-4007-8d36-34fcab6c5af3",
      "metadata": {},
      "outputs": [],
      "source": [
        "#### Inferences\n",
        "\n",
        "It is found that here the innermost circle **Eve** represents the parent and the second outer circle represents his childrent **Cain**,**Seth** and so on.Further the outermost circle represents his grandchildren **Enoch** and **Enos**\n"
      ]
    },
    {
      "cell_type": "markdown",
      "id": "49aa1c9f-f70f-44fd-9a05-1f95d6df5596",
      "metadata": {},
      "outputs": [],
      "source": [
        "## II- Practice Exercises: Apply your Plotly Skills to an Airline Dataset\n",
        "\n",
        "The Reporting Carrier On-Time Performance Dataset contains information on approximately 200 million domestic US flights reported to the United States Bureau of Transportation Statistics. The dataset contains basic information about each flight (such as date, time, departure airport, arrival airport) and, if applicable, the amount of time the flight was delayed and information about the reason for the delay. This dataset can be used to predict the likelihood of a flight arriving on time.\n",
        "\n",
        "Preview data, dataset metadata, and data glossary [here.](https://dax-cdn.cdn.appdomain.cloud/dax-airline/1.0.1/data-preview/index.html)\n"
      ]
    },
    {
      "cell_type": "markdown",
      "id": "caecd341-5620-4411-8a66-725998dddac3",
      "metadata": {},
      "outputs": [],
      "source": [
        "# Read Data\n"
      ]
    },
    {
      "cell_type": "code",
      "id": "e368c8ad-caa2-414a-b1f2-59061f4665d0",
      "metadata": {},
      "outputs": [],
      "source": [
        "# Read the airline data into pandas dataframe\nfrom js import fetch\nimport io\n\nURL = 'https://cf-courses-data.s3.us.cloud-object-storage.appdomain.cloud/IBMDeveloperSkillsNetwork-DV0101EN-SkillsNetwork/Data%20Files/airline_data.csv'\nresp = await fetch(URL)\ntext = io.BytesIO((await resp.arrayBuffer()).to_py())\n\nairline_data =  pd.read_csv(text,\n                            encoding = \"ISO-8859-1\",\n                            dtype={'Div1Airport': str, 'Div1TailNum': str, \n                                   'Div2Airport': str, 'Div2TailNum': str})\n\nprint('Data downloaded and read into a dataframe!')"
      ]
    },
    {
      "cell_type": "code",
      "id": "e2d679e4-8bcd-4ee8-8aeb-980f3e90633c",
      "metadata": {},
      "outputs": [],
      "source": [
        "# Preview the first 5 lines of the loaded data \nairline_data.head()"
      ]
    },
    {
      "cell_type": "code",
      "id": "0e2d3c31-2c5a-4b41-8fee-95f0287d151c",
      "metadata": {},
      "outputs": [],
      "source": [
        "# Shape of the data\nairline_data.shape"
      ]
    },
    {
      "cell_type": "code",
      "id": "e2750567-3e19-425e-b8e5-fc8cc6a89645",
      "metadata": {},
      "outputs": [],
      "source": [
        "# Randomly sample 500 data points. Setting the random state to be 42 so that we get same result.\ndata = airline_data.sample(n=500, random_state=42)"
      ]
    },
    {
      "cell_type": "code",
      "id": "0c1e792e-06e4-418e-82cb-407c93e58d2f",
      "metadata": {},
      "outputs": [],
      "source": [
        "# Get the shape of the trimmed data\ndata.shape"
      ]
    },
    {
      "cell_type": "markdown",
      "id": "1b678170-93cb-4056-9a36-b83e1ccde171",
      "metadata": {},
      "outputs": [],
      "source": [
        "It would be interesting if we visually  capture details such as\n",
        "\n",
        "* Departure time changes with respect to airport distance.\n",
        "\n",
        "* Average Flight Delay time over the months\n",
        "\n",
        "* Comparing number of flights in each destination state\n",
        "\n",
        "* Number of  flights per reporting airline\n",
        "\n",
        "* Distrubution of arrival delay\n",
        "\n",
        "* Proportion of distance group by month (month indicated by numbers)\n",
        "\n",
        "* Hierarchical view in othe order of month and destination state holding value of number of flights\n"
      ]
    },
    {
      "cell_type": "markdown",
      "id": "280b43a1-2e50-4ec0-a445-7c005caadb79",
      "metadata": {},
      "outputs": [],
      "source": [
        "# plotly.graph_objects¶\n"
      ]
    },
    {
      "cell_type": "markdown",
      "id": "304bd60b-9ff7-4902-bc92-03ffd45b29ff",
      "metadata": {},
      "outputs": [],
      "source": [
        "## 1. Scatter Plot\n"
      ]
    },
    {
      "cell_type": "markdown",
      "id": "f78183be-2268-496e-8a71-f33810ecc944",
      "metadata": {},
      "outputs": [],
      "source": [
        "Let us use a scatter plot to represent departure time changes with respect to airport distance\n",
        "\n",
        "This plot should contain the following\n",
        "\n",
        "* Title as **Distance vs Departure Time**.\n",
        "* x-axis label should be **Distance**\n",
        "* y-axis label should be **DeptTime**\n",
        "* **Distance** column data from the flight delay dataset should be considered in x-axis\n",
        "* **DepTime** column data from the flight delay dataset should be considered in y-axis\n",
        "* Scatter plot markers should be of red color\n"
      ]
    },
    {
      "cell_type": "code",
      "id": "bb6d3997-596f-48e2-8286-e7109dc885c2",
      "metadata": {},
      "outputs": [],
      "source": [
        "## Write your code here"
      ]
    },
    {
      "cell_type": "markdown",
      "id": "aba45fea-7e1e-4bf3-a55e-74d31b248237",
      "metadata": {},
      "outputs": [],
      "source": [
        "Double-click **here** for hint.\n",
        "<!-- \n",
        "***Use go.scatter() method*** and mode as markers\n",
        "-->\n"
      ]
    },
    {
      "cell_type": "markdown",
      "id": "91abadae-3442-40db-9b85-5639149dce78",
      "metadata": {},
      "outputs": [],
      "source": [
        "Double-click **here** for the solution.\n",
        "\n",
        "<!-- The answer is below:\n",
        "\n",
        "    \n",
        "##First we will create an empty figure ising go.Figure()\n",
        "fig=go.Figure()\n",
        "#Next we will create a scatter plot by using the add_trace function and use the go.scatter() function within it\n",
        "# In go.Scatter we define the x-axis data,y-axis data and define the mode as markers with color of the marker as red\n",
        "fig.add_trace(go.Scatter(x=data['Distance'], y=data['DepTime'], mode='markers', marker=dict(color='red')))\n",
        "fig.update_layout(title='Distance vs Departure Time', xaxis_title='Distance', yaxis_title='DepTime')\n",
        "# Display the figure\n",
        "fig.show()\n",
        "-->\n"
      ]
    },
    {
      "cell_type": "markdown",
      "id": "9db27f05-4e2e-40b3-a97a-458e0950ae03",
      "metadata": {},
      "outputs": [],
      "source": [
        "#### Inferences\n",
        "\n",
        "It can be inferred that there are more flights round the clock for shorter distances. However, for longer distance there are limited flights through the day.\n"
      ]
    },
    {
      "cell_type": "markdown",
      "id": "9c51d812-f1e0-4117-99e5-4f83894a3d4a",
      "metadata": {},
      "outputs": [],
      "source": [
        "## 2. Line Plot\n"
      ]
    },
    {
      "cell_type": "markdown",
      "id": "d4c3e5c0-beac-4106-a6a3-b832a52d0f81",
      "metadata": {},
      "outputs": [],
      "source": [
        "Let us now use a line plot to extract average monthly arrival delay time and see how it changes over the year.\n",
        "\n",
        "  This plot should contain the following\n",
        "\n",
        "* Title as **Month vs Average Flight Delay Time**.\n",
        "* x-axis label should be **Month**\n",
        "* y-axis label should be **ArrDelay**\n",
        "* A new dataframe **line_data** should be created which consists of 2 columns average **arrival delay time per month** and **month** from the dataset\n",
        "* **Month** column data from the line_data dataframe should be considered in x-axis\n",
        "* **ArrDelay** column data from the ine_data dataframeshould be considered in y-axis\n",
        "* Plotted line in the line plot should be of green color\n"
      ]
    },
    {
      "cell_type": "code",
      "id": "45de201d-a7cb-4d82-89e7-50d3f5c4d60c",
      "metadata": {},
      "outputs": [],
      "source": [
        "# Group the data by Month and compute average over arrival delay time.\nline_data = data.groupby('Month')['ArrDelay'].mean().reset_index()"
      ]
    },
    {
      "cell_type": "code",
      "id": "2df23cb4-33ed-4a59-858f-e4e501f05631",
      "metadata": {},
      "outputs": [],
      "source": [
        "# Display the data\nline_data"
      ]
    },
    {
      "cell_type": "code",
      "id": "544d3f60-f4c5-4de7-a032-96b8054b606c",
      "metadata": {},
      "outputs": [],
      "source": [
        "## Write your code here"
      ]
    },
    {
      "cell_type": "markdown",
      "id": "6cfec099-1e8e-477e-a8ba-d5f2990f0bb9",
      "metadata": {},
      "outputs": [],
      "source": [
        "Double-click **here** for hint.\n",
        "<!--\n",
        "*   Hint: Scatter and line plot vary by updating mode parameter.\n",
        "-->\n"
      ]
    },
    {
      "cell_type": "markdown",
      "id": "71be99ea-6309-4387-9cb2-3586a47c4216",
      "metadata": {},
      "outputs": [],
      "source": [
        "Double-click **here** for the solution.\n",
        "\n",
        "<!-- The answer is below:\n",
        "\n",
        "    \n",
        "##First we will create an empty figure ising go.Figure()\n",
        "fig=go.Figure()\n",
        "##Next we will create a line plot by using the add_trace function and use the go.scatter() function within it\n",
        "# In go.Scatter we define the x-axis data,y-axis data and define the mode as lines with color of the marker as green\n",
        "fig.add_trace(go.Scatter(x=line_data['Month'], y=line_data['ArrDelay'], mode='lines', marker=dict(color='green')))\n",
        "# Create line plot here\n",
        "## Here we update these values under function attributes such as title,xaxis_title and yaxis_title\n",
        "fig.update_layout(title='Month vs Average Flight Delay Time', xaxis_title='Month', yaxis_title='ArrDelay')\n",
        "fig.show()\n",
        "-->\n"
      ]
    },
    {
      "cell_type": "markdown",
      "id": "db9b5dad-fcb6-4192-a1d6-6a9e12b6d4b8",
      "metadata": {},
      "outputs": [],
      "source": [
        "#### Inferences\n",
        "\n",
        "It is found that in the month of June the average monthly delay time is the maximum\n"
      ]
    },
    {
      "cell_type": "markdown",
      "id": "ae2dd7b9-ac83-455d-98cb-306039b55c43",
      "metadata": {},
      "outputs": [],
      "source": [
        "# plotly.express¶\n"
      ]
    },
    {
      "cell_type": "markdown",
      "id": "b83e7397-7cb2-4cc6-ba9d-37aa7482a3d4",
      "metadata": {},
      "outputs": [],
      "source": [
        "## 3. Bar Chart\n"
      ]
    },
    {
      "cell_type": "markdown",
      "id": "02b4ca1c-1ee8-496e-aa8f-eafbee1847e5",
      "metadata": {},
      "outputs": [],
      "source": [
        "\n",
        "Let us use a bar chart to extract number of flights from a specific airline that goes to a destination\n",
        "\n",
        "This plot should contain the following\n",
        "\n",
        "* Title as **Total number of flights to the destination state split by reporting air**.\n",
        "* x-axis label should be **DestState**\n",
        "* y-axis label should be **Flights**\n",
        "* Create a new dataframe called **bar_data**  which contains 2 columns **DestState** and **Flights**.Here **flights** indicate total number of flights in each combination.\n"
      ]
    },
    {
      "cell_type": "code",
      "id": "cfd3374e-a7d3-4faa-bca7-a689a3b79b80",
      "metadata": {},
      "outputs": [],
      "source": [
        "# Group the data by destination state and reporting airline. Compute total number of flights in each combination\nbar_data = data.groupby('DestState')['Flights'].sum().reset_index()"
      ]
    },
    {
      "cell_type": "code",
      "id": "a12adb8b-1321-42d8-bfcd-6f1101ef17d3",
      "metadata": {},
      "outputs": [],
      "source": [
        "# Display the data\nbar_data"
      ]
    },
    {
      "cell_type": "code",
      "id": "979fac35-e99e-43ae-926e-bf229b22bc30",
      "metadata": {},
      "outputs": [],
      "source": [
        "## Write your code here"
      ]
    },
    {
      "cell_type": "markdown",
      "id": "92fa2846-5c38-4c46-ba0c-a35140b678bd",
      "metadata": {},
      "outputs": [],
      "source": [
        "Double-click **here** for hint.\n",
        "<!--\n",
        "***Use the px.bar() function***\n",
        "-->\n"
      ]
    },
    {
      "cell_type": "markdown",
      "id": "64afb1af-66f4-4ba2-b38d-331b3a9fb51f",
      "metadata": {},
      "outputs": [],
      "source": [
        "Double-click **here** for the solution.\n",
        "\n",
        "<!-- The answer is below:\n",
        "\n",
        "    \n",
        "# Use plotly express bar chart function px.bar. Provide input data, x and y axis variable, and title of the chart.\n",
        "# This will give total number of flights to the destination state.\n",
        "fig = px.bar(bar_data, x=\"DestState\", y=\"Flights\", title='Total number of flights to the destination state split by reporting airline') \n",
        "fig.show()\n",
        "-->\n"
      ]
    },
    {
      "cell_type": "markdown",
      "id": "e6731cd2-f712-47a9-9eb2-e299ef885585",
      "metadata": {},
      "outputs": [],
      "source": [
        "#### Inferences\n",
        "\n",
        "It is found that maximum flights are to destination state **CA** which is around 68 and there is only 1 flight to destination state **VT**\n"
      ]
    },
    {
      "cell_type": "markdown",
      "id": "19fa6213-6011-4c95-b5f5-7a6c6a83fd48",
      "metadata": {},
      "outputs": [],
      "source": [
        "## 4. Histogram\n"
      ]
    },
    {
      "cell_type": "markdown",
      "id": "b55ba105-a850-434b-87fc-e226452b4b48",
      "metadata": {},
      "outputs": [],
      "source": [
        "\n",
        "Let us represent the distribution of arrival delay using a histogram\n",
        "\n",
        "This plot should contain the following\n",
        "\n",
        "* Title as **Total number of flights to the destination state split by reporting air**.\n",
        "* x-axis label should be **ArrayDelay**\n",
        "* y-axis will show the count of arrival delay\n"
      ]
    },
    {
      "cell_type": "code",
      "id": "226d2a44-f752-4722-bda4-26466b99e662",
      "metadata": {},
      "outputs": [],
      "source": [
        "# Set missing values to 0\ndata['ArrDelay'] = data['ArrDelay'].fillna(0)"
      ]
    },
    {
      "cell_type": "code",
      "id": "67173ef8-b69d-4553-9389-7d8af13bd2de",
      "metadata": {},
      "outputs": [],
      "source": [
        "## Write your code here"
      ]
    },
    {
      "cell_type": "markdown",
      "id": "6a28b49e-94cd-4e70-bf53-e0abf817331f",
      "metadata": {},
      "outputs": [],
      "source": [
        "Double-click **here** for hint.\n",
        "<!--\n",
        "***Use the px.histogram() function***\n",
        "-->\n"
      ]
    },
    {
      "cell_type": "markdown",
      "id": "afc14696-7b66-4e2f-b048-38c95c77d761",
      "metadata": {},
      "outputs": [],
      "source": [
        "Double-click **here** for the solution.\n",
        "\n",
        "<!-- The answer is below:\n",
        "## Use plotly express histogram chart function px.histogram.Provide input data x to the histogram\n",
        "fig = px.histogram(data, x=\"ArrDelay\",title=\"Total number of flights to the destination state split by reporting air.\")\n",
        "fig.show()\n",
        "    \n",
        "\n",
        "-->\n"
      ]
    },
    {
      "cell_type": "markdown",
      "id": "8feca108-88b7-42aa-8645-512c634c774b",
      "metadata": {},
      "outputs": [],
      "source": [
        "#### Inferences\n",
        "\n",
        "It is found that there is only max of 5 flights with an arrival delay of 50-54 minutes and around 17 flights with an arrival delay of 20-25 minutes\n"
      ]
    },
    {
      "cell_type": "markdown",
      "id": "f79c4452-1c9e-4071-9633-48db0d8a3f35",
      "metadata": {},
      "outputs": [],
      "source": [
        "## 5. Bubble Chart\n"
      ]
    },
    {
      "cell_type": "markdown",
      "id": "09233a4d-60da-49eb-9d00-e40c081136f3",
      "metadata": {},
      "outputs": [],
      "source": [
        "Let  use a bubble plot to represent number of flights as per reporting airline\n",
        "\n",
        "This plot should contain the following\n",
        "\n",
        "* Title as **Reporting Airline vs Number of Flights**.\n",
        "* x-axis label should be **Reporting_Airline**\n",
        "* y-axis label should be **Flights**\n",
        "* size of the bubble should be **Flights** indicating number of flights\n",
        "* Name of the hover tooltip to `reporting_airline` using `hover_name` parameter.\n"
      ]
    },
    {
      "cell_type": "code",
      "id": "42953160-e8e6-465f-808f-556512421995",
      "metadata": {},
      "outputs": [],
      "source": [
        "# Group the data by reporting airline and get number of flights\nbub_data = data.groupby('Reporting_Airline')['Flights'].sum().reset_index()"
      ]
    },
    {
      "cell_type": "code",
      "id": "0230a9e5-6481-4202-b2bb-743c1bb5598d",
      "metadata": {},
      "outputs": [],
      "source": [
        "bub_data"
      ]
    },
    {
      "cell_type": "code",
      "id": "1fbebaf7-0923-4a69-aad3-d6e7ee7c52dc",
      "metadata": {},
      "outputs": [],
      "source": [
        "## Write your code here\n"
      ]
    },
    {
      "cell_type": "markdown",
      "id": "a41451d8-a027-415f-9aed-c89f6c64d436",
      "metadata": {},
      "outputs": [],
      "source": [
        "Double-click **here** for hint.\n",
        "<!--\n",
        "***Use the px.scatter() function and define the size attribute values apart from x and y attribute values***\n",
        "-->\n"
      ]
    },
    {
      "cell_type": "markdown",
      "id": "2d312640-b6b8-4e4e-b254-73003c81ce58",
      "metadata": {},
      "outputs": [],
      "source": [
        "Double-click **here** for the solution.\n",
        "\n",
        "<!-- The answer is below:\n",
        "## Bubble chart using px.scatter function with x ,y and size variables defined.Title defined as Reporting Airline vs Number of Flights\n",
        "fig = px.scatter(bub_data, x=\"Reporting_Airline\", y=\"Flights\", size=\"Flights\",\n",
        "                 hover_name=\"Reporting_Airline\", title='Reporting Airline vs Number of Flights', size_max=60)\n",
        "fig.show()\n",
        "    \n",
        "\n",
        "-->\n"
      ]
    },
    {
      "cell_type": "markdown",
      "id": "a6ff9218-1810-41d7-8356-f87adea5622d",
      "metadata": {},
      "outputs": [],
      "source": [
        "#### Inferences\n",
        "\n",
        "It is found that the reporting airline **WN** has the highest number of flights which is around 86\n"
      ]
    },
    {
      "cell_type": "markdown",
      "id": "c4b555b1-101d-44a3-a93e-5b49dd1075ff",
      "metadata": {},
      "outputs": [],
      "source": [
        "## 6. Pie Chart\n"
      ]
    },
    {
      "cell_type": "markdown",
      "id": "a76cd36b-9017-4e89-870b-848b934b346f",
      "metadata": {},
      "outputs": [],
      "source": [
        "Let us represent the proportion of Flights by Distance Group (Flights indicated by numbers)\n",
        "\n",
        "This plot should contain the following\n",
        "\n",
        "* Title as **Flight propotion by Distance Group**.\n",
        "* values should be **Flights**\n",
        "* names should be **DistanceGroup**\n"
      ]
    },
    {
      "cell_type": "code",
      "id": "761349e6-da10-4d16-a7c1-ca275dcbe4e4",
      "metadata": {},
      "outputs": [],
      "source": [
        "## Write your code here"
      ]
    },
    {
      "cell_type": "markdown",
      "id": "83ea8eaa-cbf2-44c4-bd8d-461ddfa813a3",
      "metadata": {},
      "outputs": [],
      "source": [
        "Double-click **here** for hint.\n",
        "<!--\n",
        "***Use the px.pie() function***\n",
        "-->\n"
      ]
    },
    {
      "cell_type": "markdown",
      "id": "100ab4af-6434-47c4-9c0f-4e462f4a4c04",
      "metadata": {},
      "outputs": [],
      "source": [
        "Double-click **here** for the solution.\n",
        "\n",
        "<!-- The answer is below:\n",
        "# Use px.pie function to create the chart. Input dataset. \n",
        "# Values parameter will set values associated to the sector. 'Flights' feature is passed to it.\n",
        "# labels for the sector are passed to the `names` parameter.\n",
        "fig = px.pie(data, values='Flights', names='DistanceGroup', title='Flight propotion by Distance Group')\n",
        "fig.show()\n",
        "    \n",
        "\n",
        "-->\n"
      ]
    },
    {
      "cell_type": "markdown",
      "id": "040bbba7-484e-4ac9-b2e3-cc7faa9ad634",
      "metadata": {},
      "outputs": [],
      "source": [
        "#### Inferences\n",
        "\n",
        "It is found that Distance group 2 has the highest flight proportion.\n"
      ]
    },
    {
      "cell_type": "markdown",
      "id": "cadd0c78-4678-4f27-bfab-897afa88ebdf",
      "metadata": {},
      "outputs": [],
      "source": [
        "## 7. SunBurst Charts\n"
      ]
    },
    {
      "cell_type": "markdown",
      "id": "75a097bd-c0b4-4046-b023-766149d30bcf",
      "metadata": {},
      "outputs": [],
      "source": [
        "Let us represent the hierarchical view in othe order of month and destination state holding value of number of flights\n",
        "\n",
        "This plot should contain the following\n",
        "\n",
        "*  Define hierarchy of sectors from root to leaves in `path` parameter. Here, we go from `Month` to `DestStateName` feature.\n",
        "*   Set sector values in `values` parameter. Here, we can pass in `Flights` feature.\n",
        "*   Show the figure.\n",
        "*   Title as **Flight Distribution Hierarchy**\n"
      ]
    },
    {
      "cell_type": "code",
      "id": "02502cfb-6cda-4caf-8dc4-f6c49ca7ae4e",
      "metadata": {},
      "outputs": [],
      "source": [
        "## Write your code here"
      ]
    },
    {
      "cell_type": "markdown",
      "id": "e6cdd0e3-a18e-4912-a9ed-2e9d1fb29246",
      "metadata": {},
      "outputs": [],
      "source": [
        "Double-click **here** for hint.\n",
        "<!--\n",
        "***Use the px.sunburst() function***\n",
        "-->\n"
      ]
    },
    {
      "cell_type": "markdown",
      "id": "5ba34bfe-1008-4c9c-b1ad-54f577c8a991",
      "metadata": {},
      "outputs": [],
      "source": [
        "Double-click **here** for the solution.\n",
        "\n",
        "<!-- The answer is below:\n",
        "## Define path as Month and DestStateName and values as Flights.\n",
        "fig = px.sunburst(data, path=['Month', 'DestStateName'], values='Flights',title='Flight Distribution Hierarchy')\n",
        "fig.show()\n",
        "    \n",
        "\n",
        "-->\n"
      ]
    },
    {
      "cell_type": "markdown",
      "id": "771e57c3-bf5c-4116-b3ff-36f022558eed",
      "metadata": {},
      "outputs": [],
      "source": [
        "#### Inferences\n",
        "\n",
        "Here the  **Month** numbers present in the innermost concentric circle is the root and for each month we will check the **number of flights** for the different **destination states** under it.\n"
      ]
    },
    {
      "cell_type": "markdown",
      "id": "af926d26-9a81-4246-a848-b316348cbd8f",
      "metadata": {},
      "outputs": [],
      "source": [
        "## Summary\n",
        "\n",
        "Congratulations for completing your lab.\n",
        "\n",
        "In this lab, you have learnt how to use `plotly.graph_objects` and `plotly.express` for creating plots and charts.\n"
      ]
    },
    {
      "cell_type": "markdown",
      "id": "1c23b5d9-f31d-42dc-b97f-874072285189",
      "metadata": {},
      "outputs": [],
      "source": [
        "## Author(s)\n",
        "[Saishruthi Swaminathan](https://www.linkedin.com/in/saishruthi-swaminathan/?utm_medium=Exinfluencer&utm_source=Exinfluencer&utm_content=000026UJ&utm_term=10006555&utm_id=NA-SkillsNetwork-Channel-SkillsNetworkCoursesIBMDeveloperSkillsNetworkDV0101ENSkillsNetwork970-2022-01-01)\n",
        "\n",
        "Lakshmi Holla\n"
      ]
    },
    {
      "cell_type": "markdown",
      "id": "c2c23dc1-5024-45cf-803a-a7fc81e9cc5e",
      "metadata": {},
      "outputs": [],
      "source": [
        "## Other Contributor(s)\n",
        "\n",
        "Lavanya T S\n"
      ]
    },
    {
      "cell_type": "markdown",
      "id": "4ff4d67c-33b3-4649-a17a-5579137faa79",
      "metadata": {},
      "outputs": [],
      "source": [
        "```{toggle} ## Changelog\n",
        "```\n",
        "\n",
        "```{toggle}| Date       | Version | Changed by | Change Description                   |\n",
        "```\n",
        "```{toggle}| ---------- | ------- | ---------- | ------------------------------------ |\n",
        "```\n",
        "```{toggle}| 12-18-2020 | 1.0     | Nayef      | Added dataset link and upload to Git |\n",
        "```\n",
        "```{toggle}| 07-02-2023 | 1.1     | Lakshmi Holla     | Updated lab |\n",
        "```\n"
      ]
    },
    {
      "cell_type": "markdown",
      "id": "406f2acf-03bc-404a-a210-a222d55e0139",
      "metadata": {},
      "outputs": [],
      "source": [
        "## <h3 align=\"center\"> © IBM Corporation 2023. All rights reserved. <h3/>\n"
      ]
    }
  ],
  "metadata": {
    "kernelspec": {
      "name": "python",
      "display_name": "Python (Pyodide)",
      "language": "python"
    },
    "language_info": {
      "codemirror_mode": {
        "name": "python",
        "version": 3
      },
      "file_extension": ".py",
      "mimetype": "text/x-python",
      "name": "python",
      "nbconvert_exporter": "python",
      "pygments_lexer": "ipython3",
      "version": "3.8"
    },
    "prev_pub_hash": "f6afa3ad7902d3ab9888143ea78cc102328afe4b5c2f2299a700a0399d27ed50"
  },
  "nbformat": 4,
  "nbformat_minor": 4
}